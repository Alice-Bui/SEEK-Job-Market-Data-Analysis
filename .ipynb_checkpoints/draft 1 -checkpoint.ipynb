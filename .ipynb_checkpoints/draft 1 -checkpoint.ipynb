{
 "cells": [
  {
   "cell_type": "code",
   "execution_count": 1,
   "id": "79a535f9",
   "metadata": {},
   "outputs": [],
   "source": [
    "# Imports\n",
    "import string\n",
    "import numpy as np\n",
    "import pandas as pd\n"
   ]
  },
  {
   "cell_type": "code",
   "execution_count": null,
   "id": "65ed374e",
   "metadata": {},
   "outputs": [],
   "source": []
  },
  {
   "cell_type": "code",
   "execution_count": null,
   "id": "83f32e38",
   "metadata": {},
   "outputs": [],
   "source": []
  },
  {
   "cell_type": "code",
   "execution_count": 2,
   "id": "57178c18",
   "metadata": {
    "scrolled": true
   },
   "outputs": [
    {
     "name": "stderr",
     "output_type": "stream",
     "text": [
      "C:\\Users\\ling\\AppData\\Local\\Temp\\ipykernel_25268\\3523767159.py:1: DtypeWarning: Columns (0,4,5,6,7) have mixed types. Specify dtype option on import or set low_memory=False.\n",
      "  df =pd.read_csv('data.csv')\n"
     ]
    }
   ],
   "source": [
    "df =pd.read_csv('data.csv')"
   ]
  },
  {
   "cell_type": "markdown",
   "id": "4cd4bfa3",
   "metadata": {},
   "source": [
    "# Part 1 – Data Preparation and Preprocessing. [15 points]"
   ]
  },
  {
   "cell_type": "markdown",
   "id": "0f865e92",
   "metadata": {},
   "source": [
    "### 1. Describe the dataset. (8 points)"
   ]
  },
  {
   "cell_type": "code",
   "execution_count": 3,
   "id": "4cb02520",
   "metadata": {},
   "outputs": [
    {
     "name": "stdout",
     "output_type": "stream",
     "text": [
      "<class 'pandas.core.frame.DataFrame'>\n",
      "RangeIndex: 318477 entries, 0 to 318476\n",
      "Data columns (total 13 columns):\n",
      " #   Column             Non-Null Count   Dtype \n",
      "---  ------             --------------   ----- \n",
      " 0   Id                 318477 non-null  object\n",
      " 1   Title              318477 non-null  object\n",
      " 2   Company            306473 non-null  object\n",
      " 3   Date               318477 non-null  object\n",
      " 4   Location           197229 non-null  object\n",
      " 5   Area               122658 non-null  object\n",
      " 6   Classification     197229 non-null  object\n",
      " 7   SubClassification  197229 non-null  object\n",
      " 8   Requirement        318470 non-null  object\n",
      " 9   FullDescription    302302 non-null  object\n",
      " 10  LowestSalary       318477 non-null  int64 \n",
      " 11  HighestSalary      318477 non-null  int64 \n",
      " 12  JobType            302379 non-null  object\n",
      "dtypes: int64(2), object(11)\n",
      "memory usage: 31.6+ MB\n"
     ]
    }
   ],
   "source": [
    "# Descrive the dataset\n",
    "df.info()"
   ]
  },
  {
   "cell_type": "code",
   "execution_count": 4,
   "id": "be41bf2e",
   "metadata": {},
   "outputs": [
    {
     "data": {
      "text/plain": [
       "318477"
      ]
     },
     "execution_count": 4,
     "metadata": {},
     "output_type": "execute_result"
    }
   ],
   "source": [
    "# Number of records\n",
    "df.shape[0]"
   ]
  },
  {
   "cell_type": "code",
   "execution_count": 5,
   "id": "63c85628",
   "metadata": {},
   "outputs": [
    {
     "name": "stdout",
     "output_type": "stream",
     "text": [
      "Started Date: 2018-10-01 00:00:00+00:00 \n",
      " Ended Date: 2019-03-13 00:00:00+00:00 \n",
      "\n",
      "163\n"
     ]
    }
   ],
   "source": [
    "# period and different dates of job postings\n",
    "df['Date'] = pd.to_datetime(df.Date)\n",
    "\n",
    "unique_date = df['Date'].nunique()\n",
    "\n",
    "print('Started Date:', df.Date.min(), '\\n','Ended Date:', df.Date.max(),'\\n')\n",
    "print(unique_date)"
   ]
  },
  {
   "cell_type": "code",
   "execution_count": 6,
   "id": "d64e039a",
   "metadata": {},
   "outputs": [
    {
     "name": "stdout",
     "output_type": "stream",
     "text": [
      "Total location: 65\n",
      "Location with most hob postings: Sydney\n"
     ]
    }
   ],
   "source": [
    "# total location & most job postings\n",
    "location = df['Location'].value_counts()\n",
    "total_location = len(location)\n",
    "most_location= location.idxmax()\n",
    "\n",
    "print('Total location:', total_location)\n",
    "print('Location with most hob postings:', most_location )"
   ]
  },
  {
   "cell_type": "code",
   "execution_count": 7,
   "id": "dcbcd262",
   "metadata": {},
   "outputs": [
    {
     "name": "stdout",
     "output_type": "stream",
     "text": [
      "Total job sector: 30 \n",
      "\n",
      "Total of classification: \n",
      " Information & Communication Technology    22796\n",
      "Trades & Services                         17976\n",
      "Healthcare & Medical                      17085\n",
      "Hospitality & Tourism                     15523\n",
      "Manufacturing, Transport & Logistics      12376\n",
      "Administration & Office Support           10020\n",
      "Accounting                                 9368\n",
      "Education & Training                       9280\n",
      "Construction                               8372\n",
      "Sales                                      8119\n",
      "Retail & Consumer Products                 8041\n",
      "Government & Defence                       7443\n",
      "Engineering                                6458\n",
      "Mining, Resources & Energy                 6288\n",
      "Banking & Financial Services               4633\n",
      "Community Services & Development           4485\n",
      "Legal                                      4237\n",
      "Human Resources & Recruitment              4144\n",
      "Call Centre & Customer Service             3971\n",
      "Marketing & Communications                 3968\n",
      "Real Estate & Property                     3614\n",
      "Design & Architecture                      1811\n",
      "Insurance & Superannuation                 1474\n",
      "Consulting & Strategy                      1206\n",
      "Sport & Recreation                          984\n",
      "Science & Technology                        905\n",
      "Farming, Animals & Conservation             882\n",
      "CEO & General Management                    844\n",
      "Advertising, Arts & Media                   833\n",
      "Self Employment                              93\n",
      "Name: Classification, dtype: int64\n"
     ]
    }
   ],
   "source": [
    "job_sector = df['Classification'].value_counts()\n",
    "print('Total job sector:', len(job_sector), '\\n')\n",
    "print('Total of classification:', '\\n', job_sector)"
   ]
  },
  {
   "cell_type": "code",
   "execution_count": 8,
   "id": "428651cd",
   "metadata": {},
   "outputs": [
    {
     "name": "stdout",
     "output_type": "stream",
     "text": [
      "Total of sub-sector in ICT: \n",
      " Developers/Programmers                   4211\n",
      "Business/Systems Analysts                2986\n",
      "Programme & Project Management           2413\n",
      "Architects                               1548\n",
      "Engineering - Software                   1437\n",
      "Help Desk & IT Support                   1374\n",
      "Networks & Systems Administration        1194\n",
      "Consultants                              1149\n",
      "Other                                     997\n",
      "Testing & Quality Assurance               831\n",
      "Security                                  774\n",
      "Management                                746\n",
      "Engineering - Network                     552\n",
      "Database Development & Administration     551\n",
      "Web Development & Production              452\n",
      "Sales - Pre & Post                        449\n",
      "Product Management & Development          376\n",
      "Telecommunications                        357\n",
      "Team Leaders                              173\n",
      "Engineering - Hardware                    116\n",
      "Technical Writing                          97\n",
      "Computer Operators                         13\n",
      "Name: SubClassification, dtype: int64\n"
     ]
    }
   ],
   "source": [
    "ict_df = df[df['Classification']=='Information & Communication Technology']\n",
    "print('Total of sub-sector in ICT:', '\\n', ict_df['SubClassification'].value_counts())"
   ]
  },
  {
   "cell_type": "code",
   "execution_count": 9,
   "id": "faa4cc93",
   "metadata": {},
   "outputs": [
    {
     "name": "stdout",
     "output_type": "stream",
     "text": [
      "Lowest Salary: 200    11411\n",
      "30     23476\n",
      "80     24249\n",
      "120    24514\n",
      "150    25841\n",
      "50     27027\n",
      "100    27673\n",
      "60     28499\n",
      "70     28712\n",
      "40     34436\n",
      "0      62639\n",
      "Name: LowestSalary, dtype: int64 \n",
      "\n",
      "Highest Salary: 999    11411\n",
      "40     23476\n",
      "100    24249\n",
      "150    24514\n",
      "200    25841\n",
      "60     27027\n",
      "120    27673\n",
      "70     28499\n",
      "80     28712\n",
      "50     34436\n",
      "30     62639\n",
      "Name: HighestSalary, dtype: int64\n"
     ]
    }
   ],
   "source": [
    "print('Lowest Salary:', df['LowestSalary'].value_counts(ascending=True), '\\n')\n",
    "print('Highest Salary:', df['HighestSalary'].value_counts(ascending=True))"
   ]
  },
  {
   "cell_type": "code",
   "execution_count": 10,
   "id": "373fd5bf",
   "metadata": {
    "scrolled": true
   },
   "outputs": [
    {
     "data": {
      "text/html": [
       "<div>\n",
       "<style scoped>\n",
       "    .dataframe tbody tr th:only-of-type {\n",
       "        vertical-align: middle;\n",
       "    }\n",
       "\n",
       "    .dataframe tbody tr th {\n",
       "        vertical-align: top;\n",
       "    }\n",
       "\n",
       "    .dataframe thead th {\n",
       "        text-align: right;\n",
       "    }\n",
       "</style>\n",
       "<table border=\"1\" class=\"dataframe\">\n",
       "  <thead>\n",
       "    <tr style=\"text-align: right;\">\n",
       "      <th></th>\n",
       "      <th>LowestSalary</th>\n",
       "      <th>HighestSalary</th>\n",
       "    </tr>\n",
       "    <tr>\n",
       "      <th>JobType</th>\n",
       "      <th></th>\n",
       "      <th></th>\n",
       "    </tr>\n",
       "  </thead>\n",
       "  <tbody>\n",
       "    <tr>\n",
       "      <th>Casual/Vacation</th>\n",
       "      <td>0</td>\n",
       "      <td>999</td>\n",
       "    </tr>\n",
       "    <tr>\n",
       "      <th>Contract/Temp</th>\n",
       "      <td>0</td>\n",
       "      <td>999</td>\n",
       "    </tr>\n",
       "    <tr>\n",
       "      <th>Full Time</th>\n",
       "      <td>0</td>\n",
       "      <td>999</td>\n",
       "    </tr>\n",
       "    <tr>\n",
       "      <th>Part Time</th>\n",
       "      <td>0</td>\n",
       "      <td>999</td>\n",
       "    </tr>\n",
       "  </tbody>\n",
       "</table>\n",
       "</div>"
      ],
      "text/plain": [
       "                 LowestSalary  HighestSalary\n",
       "JobType                                     \n",
       "Casual/Vacation             0            999\n",
       "Contract/Temp               0            999\n",
       "Full Time                   0            999\n",
       "Part Time                   0            999"
      ]
     },
     "execution_count": 10,
     "metadata": {},
     "output_type": "execute_result"
    }
   ],
   "source": [
    "df.groupby('JobType').agg({'LowestSalary':'min','HighestSalary':'max'})"
   ]
  },
  {
   "cell_type": "code",
   "execution_count": null,
   "id": "b5539d7c",
   "metadata": {},
   "outputs": [],
   "source": []
  },
  {
   "cell_type": "markdown",
   "id": "23046c27",
   "metadata": {},
   "source": [
    "### 2. Normalize and clean data. (7 points) "
   ]
  },
  {
   "cell_type": "code",
   "execution_count": 11,
   "id": "dd453107",
   "metadata": {},
   "outputs": [
    {
     "data": {
      "text/html": [
       "<div>\n",
       "<style scoped>\n",
       "    .dataframe tbody tr th:only-of-type {\n",
       "        vertical-align: middle;\n",
       "    }\n",
       "\n",
       "    .dataframe tbody tr th {\n",
       "        vertical-align: top;\n",
       "    }\n",
       "\n",
       "    .dataframe thead th {\n",
       "        text-align: right;\n",
       "    }\n",
       "</style>\n",
       "<table border=\"1\" class=\"dataframe\">\n",
       "  <thead>\n",
       "    <tr style=\"text-align: right;\">\n",
       "      <th></th>\n",
       "      <th>AverageSalary</th>\n",
       "    </tr>\n",
       "    <tr>\n",
       "      <th>Classification</th>\n",
       "      <th></th>\n",
       "    </tr>\n",
       "  </thead>\n",
       "  <tbody>\n",
       "    <tr>\n",
       "      <th>Self Employment</th>\n",
       "      <td>93</td>\n",
       "    </tr>\n",
       "    <tr>\n",
       "      <th>Advertising, Arts &amp; Media</th>\n",
       "      <td>833</td>\n",
       "    </tr>\n",
       "    <tr>\n",
       "      <th>CEO &amp; General Management</th>\n",
       "      <td>844</td>\n",
       "    </tr>\n",
       "    <tr>\n",
       "      <th>Farming, Animals &amp; Conservation</th>\n",
       "      <td>882</td>\n",
       "    </tr>\n",
       "    <tr>\n",
       "      <th>Science &amp; Technology</th>\n",
       "      <td>905</td>\n",
       "    </tr>\n",
       "    <tr>\n",
       "      <th>Sport &amp; Recreation</th>\n",
       "      <td>984</td>\n",
       "    </tr>\n",
       "    <tr>\n",
       "      <th>Consulting &amp; Strategy</th>\n",
       "      <td>1206</td>\n",
       "    </tr>\n",
       "    <tr>\n",
       "      <th>Insurance &amp; Superannuation</th>\n",
       "      <td>1474</td>\n",
       "    </tr>\n",
       "    <tr>\n",
       "      <th>Design &amp; Architecture</th>\n",
       "      <td>1811</td>\n",
       "    </tr>\n",
       "    <tr>\n",
       "      <th>Real Estate &amp; Property</th>\n",
       "      <td>3614</td>\n",
       "    </tr>\n",
       "    <tr>\n",
       "      <th>Marketing &amp; Communications</th>\n",
       "      <td>3968</td>\n",
       "    </tr>\n",
       "    <tr>\n",
       "      <th>Call Centre &amp; Customer Service</th>\n",
       "      <td>3971</td>\n",
       "    </tr>\n",
       "    <tr>\n",
       "      <th>Human Resources &amp; Recruitment</th>\n",
       "      <td>4144</td>\n",
       "    </tr>\n",
       "    <tr>\n",
       "      <th>Legal</th>\n",
       "      <td>4237</td>\n",
       "    </tr>\n",
       "    <tr>\n",
       "      <th>Community Services &amp; Development</th>\n",
       "      <td>4485</td>\n",
       "    </tr>\n",
       "    <tr>\n",
       "      <th>Banking &amp; Financial Services</th>\n",
       "      <td>4633</td>\n",
       "    </tr>\n",
       "    <tr>\n",
       "      <th>Mining, Resources &amp; Energy</th>\n",
       "      <td>6288</td>\n",
       "    </tr>\n",
       "    <tr>\n",
       "      <th>Engineering</th>\n",
       "      <td>6458</td>\n",
       "    </tr>\n",
       "    <tr>\n",
       "      <th>Government &amp; Defence</th>\n",
       "      <td>7443</td>\n",
       "    </tr>\n",
       "    <tr>\n",
       "      <th>Retail &amp; Consumer Products</th>\n",
       "      <td>8041</td>\n",
       "    </tr>\n",
       "    <tr>\n",
       "      <th>Sales</th>\n",
       "      <td>8119</td>\n",
       "    </tr>\n",
       "    <tr>\n",
       "      <th>Construction</th>\n",
       "      <td>8372</td>\n",
       "    </tr>\n",
       "    <tr>\n",
       "      <th>Education &amp; Training</th>\n",
       "      <td>9280</td>\n",
       "    </tr>\n",
       "    <tr>\n",
       "      <th>Accounting</th>\n",
       "      <td>9368</td>\n",
       "    </tr>\n",
       "    <tr>\n",
       "      <th>Administration &amp; Office Support</th>\n",
       "      <td>10020</td>\n",
       "    </tr>\n",
       "    <tr>\n",
       "      <th>Manufacturing, Transport &amp; Logistics</th>\n",
       "      <td>12376</td>\n",
       "    </tr>\n",
       "    <tr>\n",
       "      <th>Hospitality &amp; Tourism</th>\n",
       "      <td>15523</td>\n",
       "    </tr>\n",
       "    <tr>\n",
       "      <th>Healthcare &amp; Medical</th>\n",
       "      <td>17085</td>\n",
       "    </tr>\n",
       "    <tr>\n",
       "      <th>Trades &amp; Services</th>\n",
       "      <td>17976</td>\n",
       "    </tr>\n",
       "    <tr>\n",
       "      <th>Information &amp; Communication Technology</th>\n",
       "      <td>22796</td>\n",
       "    </tr>\n",
       "  </tbody>\n",
       "</table>\n",
       "</div>"
      ],
      "text/plain": [
       "                                        AverageSalary\n",
       "Classification                                       \n",
       "Self Employment                                    93\n",
       "Advertising, Arts & Media                         833\n",
       "CEO & General Management                          844\n",
       "Farming, Animals & Conservation                   882\n",
       "Science & Technology                              905\n",
       "Sport & Recreation                                984\n",
       "Consulting & Strategy                            1206\n",
       "Insurance & Superannuation                       1474\n",
       "Design & Architecture                            1811\n",
       "Real Estate & Property                           3614\n",
       "Marketing & Communications                       3968\n",
       "Call Centre & Customer Service                   3971\n",
       "Human Resources & Recruitment                    4144\n",
       "Legal                                            4237\n",
       "Community Services & Development                 4485\n",
       "Banking & Financial Services                     4633\n",
       "Mining, Resources & Energy                       6288\n",
       "Engineering                                      6458\n",
       "Government & Defence                             7443\n",
       "Retail & Consumer Products                       8041\n",
       "Sales                                            8119\n",
       "Construction                                     8372\n",
       "Education & Training                             9280\n",
       "Accounting                                       9368\n",
       "Administration & Office Support                 10020\n",
       "Manufacturing, Transport & Logistics            12376\n",
       "Hospitality & Tourism                           15523\n",
       "Healthcare & Medical                            17085\n",
       "Trades & Services                               17976\n",
       "Information & Communication Technology          22796"
      ]
     },
     "execution_count": 11,
     "metadata": {},
     "output_type": "execute_result"
    }
   ],
   "source": [
    "# Sum of Average Salary by Classification\n",
    "df['AverageSalary'] = (df['LowestSalary']+df['HighestSalary'])/2\n",
    "Classification_salary = df.groupby('Classification').agg({'AverageSalary': 'count'}).sort_values(by='AverageSalary', ascending=True)\n",
    "Classification_salary"
   ]
  },
  {
   "cell_type": "code",
   "execution_count": 12,
   "id": "fff87651",
   "metadata": {},
   "outputs": [
    {
     "data": {
      "text/html": [
       "<div>\n",
       "<style scoped>\n",
       "    .dataframe tbody tr th:only-of-type {\n",
       "        vertical-align: middle;\n",
       "    }\n",
       "\n",
       "    .dataframe tbody tr th {\n",
       "        vertical-align: top;\n",
       "    }\n",
       "\n",
       "    .dataframe thead th {\n",
       "        text-align: right;\n",
       "    }\n",
       "</style>\n",
       "<table border=\"1\" class=\"dataframe\">\n",
       "  <thead>\n",
       "    <tr style=\"text-align: right;\">\n",
       "      <th></th>\n",
       "      <th>Id</th>\n",
       "      <th>Title</th>\n",
       "      <th>Company</th>\n",
       "      <th>Date</th>\n",
       "      <th>Location</th>\n",
       "      <th>Area</th>\n",
       "      <th>Classification</th>\n",
       "      <th>SubClassification</th>\n",
       "      <th>Requirement</th>\n",
       "      <th>FullDescription</th>\n",
       "      <th>LowestSalary</th>\n",
       "      <th>HighestSalary</th>\n",
       "      <th>JobType</th>\n",
       "      <th>AverageSalary</th>\n",
       "    </tr>\n",
       "  </thead>\n",
       "  <tbody>\n",
       "    <tr>\n",
       "      <th>0</th>\n",
       "      <td>37404348</td>\n",
       "      <td>Casual Stock Replenisher</td>\n",
       "      <td>Aldi Stores</td>\n",
       "      <td>2018-10-07 00:00:00+00:00</td>\n",
       "      <td>Sydney</td>\n",
       "      <td>North West &amp; Hills District</td>\n",
       "      <td>Retail &amp; Consumer Products</td>\n",
       "      <td>Retail Assistants</td>\n",
       "      <td>Our Casual Stock Replenishers pride themselves...</td>\n",
       "      <td>NaN</td>\n",
       "      <td>0</td>\n",
       "      <td>30</td>\n",
       "      <td>NaN</td>\n",
       "      <td>15.0</td>\n",
       "    </tr>\n",
       "    <tr>\n",
       "      <th>1</th>\n",
       "      <td>37404337</td>\n",
       "      <td>Casual Stock Replenisher</td>\n",
       "      <td>Aldi Stores</td>\n",
       "      <td>2018-10-07 00:00:00+00:00</td>\n",
       "      <td>Richmond &amp; Hawkesbury</td>\n",
       "      <td>NaN</td>\n",
       "      <td>Retail &amp; Consumer Products</td>\n",
       "      <td>Retail Assistants</td>\n",
       "      <td>Our Casual Stock Replenishers pride themselves...</td>\n",
       "      <td>NaN</td>\n",
       "      <td>0</td>\n",
       "      <td>30</td>\n",
       "      <td>NaN</td>\n",
       "      <td>15.0</td>\n",
       "    </tr>\n",
       "    <tr>\n",
       "      <th>2</th>\n",
       "      <td>37404356</td>\n",
       "      <td>RETAIL SALES SUPERSTARS and STYLISTS Wanted - ...</td>\n",
       "      <td>LB Creative Pty Ltd</td>\n",
       "      <td>2018-10-07 00:00:00+00:00</td>\n",
       "      <td>Brisbane</td>\n",
       "      <td>CBD &amp; Inner Suburbs</td>\n",
       "      <td>Retail &amp; Consumer Products</td>\n",
       "      <td>Retail Assistants</td>\n",
       "      <td>BRAND NEW FLAGSHIP STORE OPENING - SUNSHINE PLAZA</td>\n",
       "      <td>NaN</td>\n",
       "      <td>0</td>\n",
       "      <td>30</td>\n",
       "      <td>NaN</td>\n",
       "      <td>15.0</td>\n",
       "    </tr>\n",
       "    <tr>\n",
       "      <th>3</th>\n",
       "      <td>37404330</td>\n",
       "      <td>Team member - Belrose</td>\n",
       "      <td>Anaconda Group Pty Ltd</td>\n",
       "      <td>2018-10-07 00:00:00+00:00</td>\n",
       "      <td>Gosford &amp; Central Coast</td>\n",
       "      <td>NaN</td>\n",
       "      <td>Retail &amp; Consumer Products</td>\n",
       "      <td>Retail Assistants</td>\n",
       "      <td>Bring it on - do you love the great outdoors a...</td>\n",
       "      <td>NaN</td>\n",
       "      <td>0</td>\n",
       "      <td>30</td>\n",
       "      <td>NaN</td>\n",
       "      <td>15.0</td>\n",
       "    </tr>\n",
       "    <tr>\n",
       "      <th>4</th>\n",
       "      <td>37404308</td>\n",
       "      <td>Business Banking Contact Centre Specialist, Ni...</td>\n",
       "      <td>Commonwealth Bank - Business &amp; Private Banking</td>\n",
       "      <td>2018-10-07 00:00:00+00:00</td>\n",
       "      <td>Sydney</td>\n",
       "      <td>Ryde &amp; Macquarie Park</td>\n",
       "      <td>Call Centre &amp; Customer Service</td>\n",
       "      <td>Sales - Inbound</td>\n",
       "      <td>We are seeking highly articulate, enthusiastic...</td>\n",
       "      <td>NaN</td>\n",
       "      <td>0</td>\n",
       "      <td>30</td>\n",
       "      <td>NaN</td>\n",
       "      <td>15.0</td>\n",
       "    </tr>\n",
       "  </tbody>\n",
       "</table>\n",
       "</div>"
      ],
      "text/plain": [
       "         Id                                              Title  \\\n",
       "0  37404348                           Casual Stock Replenisher   \n",
       "1  37404337                           Casual Stock Replenisher   \n",
       "2  37404356  RETAIL SALES SUPERSTARS and STYLISTS Wanted - ...   \n",
       "3  37404330                              Team member - Belrose   \n",
       "4  37404308  Business Banking Contact Centre Specialist, Ni...   \n",
       "\n",
       "                                          Company                      Date  \\\n",
       "0                                     Aldi Stores 2018-10-07 00:00:00+00:00   \n",
       "1                                     Aldi Stores 2018-10-07 00:00:00+00:00   \n",
       "2                             LB Creative Pty Ltd 2018-10-07 00:00:00+00:00   \n",
       "3                          Anaconda Group Pty Ltd 2018-10-07 00:00:00+00:00   \n",
       "4  Commonwealth Bank - Business & Private Banking 2018-10-07 00:00:00+00:00   \n",
       "\n",
       "                  Location                         Area  \\\n",
       "0                   Sydney  North West & Hills District   \n",
       "1    Richmond & Hawkesbury                          NaN   \n",
       "2                 Brisbane          CBD & Inner Suburbs   \n",
       "3  Gosford & Central Coast                          NaN   \n",
       "4                   Sydney        Ryde & Macquarie Park   \n",
       "\n",
       "                   Classification  SubClassification  \\\n",
       "0      Retail & Consumer Products  Retail Assistants   \n",
       "1      Retail & Consumer Products  Retail Assistants   \n",
       "2      Retail & Consumer Products  Retail Assistants   \n",
       "3      Retail & Consumer Products  Retail Assistants   \n",
       "4  Call Centre & Customer Service    Sales - Inbound   \n",
       "\n",
       "                                         Requirement FullDescription  \\\n",
       "0  Our Casual Stock Replenishers pride themselves...             NaN   \n",
       "1  Our Casual Stock Replenishers pride themselves...             NaN   \n",
       "2  BRAND NEW FLAGSHIP STORE OPENING - SUNSHINE PLAZA             NaN   \n",
       "3  Bring it on - do you love the great outdoors a...             NaN   \n",
       "4  We are seeking highly articulate, enthusiastic...             NaN   \n",
       "\n",
       "   LowestSalary  HighestSalary JobType  AverageSalary  \n",
       "0             0             30     NaN           15.0  \n",
       "1             0             30     NaN           15.0  \n",
       "2             0             30     NaN           15.0  \n",
       "3             0             30     NaN           15.0  \n",
       "4             0             30     NaN           15.0  "
      ]
     },
     "execution_count": 12,
     "metadata": {},
     "output_type": "execute_result"
    }
   ],
   "source": [
    "# keep 8 number int \n",
    "df['Id'] = df['Id'].astype(str).str.extract(r'(\\d{8})')\n",
    "df.head()"
   ]
  },
  {
   "cell_type": "code",
   "execution_count": null,
   "id": "f4e7717d",
   "metadata": {},
   "outputs": [],
   "source": [
    "# "
   ]
  },
  {
   "cell_type": "code",
   "execution_count": null,
   "id": "613379b0",
   "metadata": {},
   "outputs": [],
   "source": []
  },
  {
   "cell_type": "code",
   "execution_count": null,
   "id": "5f69431e",
   "metadata": {},
   "outputs": [],
   "source": []
  },
  {
   "cell_type": "code",
   "execution_count": null,
   "id": "0460fd2e",
   "metadata": {},
   "outputs": [],
   "source": []
  },
  {
   "cell_type": "code",
   "execution_count": null,
   "id": "a9ae5ae9",
   "metadata": {},
   "outputs": [],
   "source": []
  },
  {
   "cell_type": "code",
   "execution_count": null,
   "id": "c195e6dc",
   "metadata": {},
   "outputs": [],
   "source": []
  },
  {
   "cell_type": "code",
   "execution_count": null,
   "id": "6adeaf40",
   "metadata": {},
   "outputs": [],
   "source": []
  },
  {
   "cell_type": "markdown",
   "id": "268cbf1d",
   "metadata": {},
   "source": [
    "# Part 2 – Data Understanding. [5 points]"
   ]
  },
  {
   "cell_type": "code",
   "execution_count": 13,
   "id": "ae09e0b4",
   "metadata": {},
   "outputs": [],
   "source": [
    "import matplotlib.pyplot as plt\n",
    "import seaborn as sns"
   ]
  },
  {
   "cell_type": "code",
   "execution_count": 14,
   "id": "7c69a7fd",
   "metadata": {
    "scrolled": false
   },
   "outputs": [
    {
     "data": {
      "text/plain": [
       "Text(0.5, 1.0, 'job distribution by average salry')"
      ]
     },
     "execution_count": 14,
     "metadata": {},
     "output_type": "execute_result"
    },
    {
     "data": {
      "image/png": "[encoded data removed]",
      "text/plain": [
       "<Figure size 640x480 with 1 Axes>"
      ]
     },
     "metadata": {},
     "output_type": "display_data"
    }
   ],
   "source": [
    "# the total jobs of each range\n",
    "salary_range_counts = df['AverageSalary'].value_counts()\n",
    "salary_range_counts.plot(kind='bar')\n",
    "plt.title('job distribution by average salry')"
   ]
  },
  {
   "cell_type": "code",
   "execution_count": null,
   "id": "266c29c4",
   "metadata": {},
   "outputs": [],
   "source": []
  },
  {
   "cell_type": "code",
   "execution_count": null,
   "id": "39061e14",
   "metadata": {},
   "outputs": [],
   "source": []
  },
  {
   "cell_type": "code",
   "execution_count": null,
   "id": "434372d6",
   "metadata": {},
   "outputs": [],
   "source": []
  },
  {
   "cell_type": "code",
   "execution_count": null,
   "id": "13a1bde2",
   "metadata": {},
   "outputs": [],
   "source": []
  },
  {
   "cell_type": "code",
   "execution_count": null,
   "id": "5fe2bf1b",
   "metadata": {},
   "outputs": [],
   "source": []
  },
  {
   "cell_type": "markdown",
   "id": "c6fe23c9",
   "metadata": {},
   "source": [
    "# Part 3 – Data Analysis and Visualisation. [6 points]"
   ]
  },
  {
   "cell_type": "markdown",
   "id": "51972f04",
   "metadata": {},
   "source": [
    "### 1. Analyse by comparison. (2 points) "
   ]
  },
  {
   "cell_type": "code",
   "execution_count": null,
   "id": "84f3544b",
   "metadata": {},
   "outputs": [],
   "source": []
  },
  {
   "cell_type": "code",
   "execution_count": null,
   "id": "2c01bba8",
   "metadata": {},
   "outputs": [],
   "source": []
  },
  {
   "cell_type": "code",
   "execution_count": null,
   "id": "195997e8",
   "metadata": {},
   "outputs": [],
   "source": []
  },
  {
   "cell_type": "code",
   "execution_count": null,
   "id": "f27422fc",
   "metadata": {},
   "outputs": [],
   "source": []
  },
  {
   "cell_type": "markdown",
   "id": "78ddcdcf",
   "metadata": {},
   "source": [
    "### 2. Analyse by time. (2 points) "
   ]
  },
  {
   "cell_type": "code",
   "execution_count": null,
   "id": "0c899253",
   "metadata": {},
   "outputs": [],
   "source": []
  },
  {
   "cell_type": "code",
   "execution_count": null,
   "id": "a9539f24",
   "metadata": {},
   "outputs": [],
   "source": []
  },
  {
   "cell_type": "code",
   "execution_count": null,
   "id": "f247e638",
   "metadata": {},
   "outputs": [],
   "source": []
  },
  {
   "cell_type": "code",
   "execution_count": null,
   "id": "b49f9ffe",
   "metadata": {},
   "outputs": [],
   "source": []
  },
  {
   "cell_type": "code",
   "execution_count": null,
   "id": "3b972168",
   "metadata": {},
   "outputs": [],
   "source": []
  },
  {
   "cell_type": "code",
   "execution_count": null,
   "id": "22e64a67",
   "metadata": {},
   "outputs": [],
   "source": []
  },
  {
   "cell_type": "code",
   "execution_count": null,
   "id": "31bbdff9",
   "metadata": {},
   "outputs": [],
   "source": []
  },
  {
   "cell_type": "markdown",
   "id": "92c528b7",
   "metadata": {},
   "source": [
    "### 3. Forecasting and skill extractions. (2 points) "
   ]
  },
  {
   "cell_type": "code",
   "execution_count": null,
   "id": "943250df",
   "metadata": {},
   "outputs": [],
   "source": []
  },
  {
   "cell_type": "code",
   "execution_count": null,
   "id": "ee0135c6",
   "metadata": {},
   "outputs": [],
   "source": []
  },
  {
   "cell_type": "code",
   "execution_count": null,
   "id": "ee2f3ed8",
   "metadata": {},
   "outputs": [],
   "source": []
  },
  {
   "cell_type": "code",
   "execution_count": null,
   "id": "51c8a9db",
   "metadata": {},
   "outputs": [],
   "source": []
  },
  {
   "cell_type": "code",
   "execution_count": null,
   "id": "72b57bdf",
   "metadata": {},
   "outputs": [],
   "source": []
  },
  {
   "cell_type": "code",
   "execution_count": null,
   "id": "97763c4a",
   "metadata": {},
   "outputs": [],
   "source": []
  },
  {
   "cell_type": "code",
   "execution_count": null,
   "id": "2ddec3b1",
   "metadata": {},
   "outputs": [],
   "source": []
  },
  {
   "cell_type": "code",
   "execution_count": null,
   "id": "f5e67acb",
   "metadata": {},
   "outputs": [],
   "source": []
  },
  {
   "cell_type": "code",
   "execution_count": null,
   "id": "9d23a477",
   "metadata": {},
   "outputs": [],
   "source": []
  }
 ],
 "metadata": {
  "kernelspec": {
   "display_name": "Python 3 (ipykernel)",
   "language": "python",
   "name": "python3"
  },
  "language_info": {
   "codemirror_mode": {
    "name": "ipython",
    "version": 3
   },
   "file_extension": ".py",
   "mimetype": "text/x-python",
   "name": "python",
   "nbconvert_exporter": "python",
   "pygments_lexer": "ipython3",
   "version": "3.11.4"
  }
 },
 "nbformat": 4,
 "nbformat_minor": 5
}

{
 "cells": [
  {
   "cell_type": "markdown",
   "id": "97fb72ca",
   "metadata": {},
   "source": [
    "# 2. Analyse by time. (2 points)\n",
    "### Visualise the number of job posts by month"
   ]
  },
  {
   "cell_type": "code",
   "execution_count": null,
   "id": "8d2cd898",
   "metadata": {},
   "outputs": [],
   "source": [
    "import calendar\n",
    "\n",
    "# Extract Week from the 'Date' column\n",
    "df['month'] = df['Date'].dt.month\n",
    "\n",
    "month = df['Date'].dt.month\n",
    "months = month.value_counts().sort_index()\n",
    "\n",
    "# Create a dictionary to map month of the month integers to abbreviated month names\n",
    "month_names = {1: 'Jan', 2: 'Feb', 3: 'Mar', 10: 'Oct', 11: 'Nov', 12: 'Dec'}\n",
    "\n",
    "# Map month of the month integers to abbreviated month names\n",
    "month_labels = [month_names[m] for m in months.index]\n",
    "\n",
    "\n",
    "jobpost_month = df['month'].value_counts().sort_index()\n",
    "\n",
    "# bar chart\n",
    "plt.figure(figsize=(10, 6))\n",
    "sns.barplot(data = df, x=jobpost_month.index, y=jobpost_month.values, palette= sns.color_palette(\"Blues_r\", 12))\n",
    "plt.title('Number of Job Posts by Month')\n",
    "plt.xlabel('Month')\n",
    "plt.ylabel('Average number of Job Posts')\n",
    "plt.grid(axis='y', linestyle='-', alpha=0.7)\n",
    "plt.xticks(range(6), month_labels)\n",
    "plt.show()"
   ]
  },
  {
   "cell_type": "code",
   "execution_count": null,
   "id": "d1f242eb",
   "metadata": {},
   "outputs": [],
   "source": [
    "import calendar\n",
    "\n",
    "# Create a dictionary to map day of the week integers to abbreviated day names\n",
    "day_names = {0: 'Mon', 1: 'Tue', 2: 'Wed', 3: 'Thu', 4: 'Fri', 5: 'Sat', 6: 'Sun'}\n",
    "\n",
    "# Map day of the week integers to abbreviated day names\n",
    "day_labels = [day_names[i] for i in range(7)]\n",
    "\n",
    "# Extract Week from the 'Date' column\n",
    "df['Week'] = df['Date'].dt.weekday\n",
    "\n",
    "jobpost_weekday = df['Week'].value_counts().sort_index()\n",
    "\n",
    "plt.figure(figsize=(10, 5))\n",
    "sns.barplot(data = df, x=jobpost_weekday.index, y=jobpost_weekday.values, palette= sns.color_palette(\"Blues_r\", 12))\n",
    "plt.title('Job Posts by Day of Week')\n",
    "plt.xlabel('Day of the Week')\n",
    "plt.ylabel('Number of Job Posts')\n",
    "plt.xticks(range(7), day_labels, rotation=0) \n",
    "plt.grid(axis='y', linestyle='-', alpha=0.7)\n",
    "plt.show()"
   ]
  },
  {
   "cell_type": "code",
   "execution_count": null,
   "id": "67ff31b2",
   "metadata": {},
   "outputs": [],
   "source": []
  },
  {
   "cell_type": "markdown",
   "id": "7b16e78d",
   "metadata": {},
   "source": [
    "### Timeseries"
   ]
  },
  {
   "cell_type": "code",
   "execution_count": null,
   "id": "f06e5b48",
   "metadata": {},
   "outputs": [],
   "source": [
    "df_location = df[df['Location'].isna()==False]\n",
    "plt.figure(figsize=(20,8))\n",
    "\n",
    "# Get job counts per location\n",
    "df_location_cnts = df_location.groupby('Location').count().reset_index()\n",
    "df_location_top = df_location_cnts.sort_values(by=['Title'],ascending=False)['Location'].tolist()\n",
    "\n",
    "# Plot top 5 in different colors\n",
    "for location in df_location_top[:5]:\n",
    "    df_current = df[df['Location'] == location].groupby(['Date']).count().reset_index().sort_values(by=['Date'])\n",
    "    df_current.set_index('Date',inplace=True)\n",
    "    \n",
    "    df_timeseries = df_current['Title'].rename('Count')\n",
    "\n",
    "    plt.plot(df_timeseries,alpha=0.8, lw=2)\n",
    "\n",
    "# Plot the rest in light grey\n",
    "for location in df_location_top[5:]:\n",
    "    df_current = df_location[df_location['Location'] == location].groupby(['Date']).count().reset_index().sort_values(by=['Date'])\n",
    "    df_current.set_index('Date',inplace=True)\n",
    "    \n",
    "    df_timeseries = df_current['Title'].rename('Count')\n",
    "\n",
    "    plt.plot(df_timeseries,alpha=0.4,c='lightgrey')\n",
    "    \n",
    "plt.legend(df_location_top[:5], title='Top 5 Cities', frameon=True)\n",
    "plt.title('Job Posts by Location',size=14)\n",
    "plt.xlabel('Date')\n",
    "plt.ylabel('Number of Job Posts')\n",
    "plt.show()"
   ]
  },
  {
   "cell_type": "code",
   "execution_count": null,
   "id": "8d1e779e",
   "metadata": {},
   "outputs": [],
   "source": []
  },
  {
   "cell_type": "code",
   "execution_count": null,
   "id": "26399b8e",
   "metadata": {},
   "outputs": [],
   "source": []
  },
  {
   "cell_type": "code",
   "execution_count": null,
   "id": "dfd9a1ef",
   "metadata": {},
   "outputs": [],
   "source": []
  }
 ],
 "metadata": {
  "kernelspec": {
   "display_name": "Python 3 (ipykernel)",
   "language": "python",
   "name": "python3"
  },
  "language_info": {
   "codemirror_mode": {
    "name": "ipython",
    "version": 3
   },
   "file_extension": ".py",
   "mimetype": "text/x-python",
   "name": "python",
   "nbconvert_exporter": "python",
   "pygments_lexer": "ipython3",
   "version": "3.11.4"
  }
 },
 "nbformat": 4,
 "nbformat_minor": 5
}

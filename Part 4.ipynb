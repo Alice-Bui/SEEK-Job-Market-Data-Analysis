{
 "cells": [
  {
   "cell_type": "markdown",
   "id": "568ce043",
   "metadata": {},
   "source": [
    "# Part 4"
   ]
  },
  {
   "cell_type": "code",
   "execution_count": 5,
   "id": "4432f33e",
   "metadata": {},
   "outputs": [],
   "source": [
    "import pandas as pd\n",
    "import numpy as np\n",
    "import matplotlib.pyplot as plt\n",
    "import seaborn as sns"
   ]
  },
  {
   "cell_type": "code",
   "execution_count": 6,
   "id": "ee96bec7",
   "metadata": {},
   "outputs": [
    {
     "name": "stderr",
     "output_type": "stream",
     "text": [
      "C:\\Users\\ling\\AppData\\Local\\Temp\\ipykernel_11844\\1494377453.py:2: DtypeWarning: Columns (0,4,5,6,7) have mixed types. Specify dtype option on import or set low_memory=False.\n",
      "  df =pd.read_csv('data.csv')\n"
     ]
    }
   ],
   "source": [
    "# Load data\n",
    "df =pd.read_csv('data.csv')"
   ]
  },
  {
   "cell_type": "code",
   "execution_count": 7,
   "id": "9eb6d400",
   "metadata": {},
   "outputs": [
    {
     "data": {
      "text/html": [
       "<div>\n",
       "<style scoped>\n",
       "    .dataframe tbody tr th:only-of-type {\n",
       "        vertical-align: middle;\n",
       "    }\n",
       "\n",
       "    .dataframe tbody tr th {\n",
       "        vertical-align: top;\n",
       "    }\n",
       "\n",
       "    .dataframe thead th {\n",
       "        text-align: right;\n",
       "    }\n",
       "</style>\n",
       "<table border=\"1\" class=\"dataframe\">\n",
       "  <thead>\n",
       "    <tr style=\"text-align: right;\">\n",
       "      <th></th>\n",
       "      <th>Id</th>\n",
       "      <th>Title</th>\n",
       "      <th>Company</th>\n",
       "      <th>Date</th>\n",
       "      <th>Location</th>\n",
       "      <th>Area</th>\n",
       "      <th>Classification</th>\n",
       "      <th>SubClassification</th>\n",
       "      <th>Requirement</th>\n",
       "      <th>FullDescription</th>\n",
       "      <th>LowestSalary</th>\n",
       "      <th>HighestSalary</th>\n",
       "      <th>JobType</th>\n",
       "      <th>AverageSalary</th>\n",
       "    </tr>\n",
       "  </thead>\n",
       "  <tbody>\n",
       "    <tr>\n",
       "      <th>0</th>\n",
       "      <td>37404348</td>\n",
       "      <td>Casual Stock Replenisher</td>\n",
       "      <td>Aldi Stores</td>\n",
       "      <td>2018-10-07</td>\n",
       "      <td>Sydney</td>\n",
       "      <td>North West &amp; Hills District</td>\n",
       "      <td>Retail &amp; Consumer Products</td>\n",
       "      <td>Retail Assistants</td>\n",
       "      <td>Our Casual Stock Replenishers pride themselves...</td>\n",
       "      <td>NaN</td>\n",
       "      <td>0</td>\n",
       "      <td>30</td>\n",
       "      <td>NaN</td>\n",
       "      <td>15.0</td>\n",
       "    </tr>\n",
       "    <tr>\n",
       "      <th>1</th>\n",
       "      <td>37404337</td>\n",
       "      <td>Casual Stock Replenisher</td>\n",
       "      <td>Aldi Stores</td>\n",
       "      <td>2018-10-07</td>\n",
       "      <td>Richmond &amp; Hawkesbury</td>\n",
       "      <td>NaN</td>\n",
       "      <td>Retail &amp; Consumer Products</td>\n",
       "      <td>Retail Assistants</td>\n",
       "      <td>Our Casual Stock Replenishers pride themselves...</td>\n",
       "      <td>NaN</td>\n",
       "      <td>0</td>\n",
       "      <td>30</td>\n",
       "      <td>NaN</td>\n",
       "      <td>15.0</td>\n",
       "    </tr>\n",
       "    <tr>\n",
       "      <th>2</th>\n",
       "      <td>37404356</td>\n",
       "      <td>RETAIL SALES SUPERSTARS and STYLISTS Wanted - ...</td>\n",
       "      <td>LB Creative Pty Ltd</td>\n",
       "      <td>2018-10-07</td>\n",
       "      <td>Brisbane</td>\n",
       "      <td>CBD &amp; Inner Suburbs</td>\n",
       "      <td>Retail &amp; Consumer Products</td>\n",
       "      <td>Retail Assistants</td>\n",
       "      <td>BRAND NEW FLAGSHIP STORE OPENING - SUNSHINE PLAZA</td>\n",
       "      <td>NaN</td>\n",
       "      <td>0</td>\n",
       "      <td>30</td>\n",
       "      <td>NaN</td>\n",
       "      <td>15.0</td>\n",
       "    </tr>\n",
       "    <tr>\n",
       "      <th>3</th>\n",
       "      <td>37404330</td>\n",
       "      <td>Team member - Belrose</td>\n",
       "      <td>Anaconda Group Pty Ltd</td>\n",
       "      <td>2018-10-07</td>\n",
       "      <td>Gosford &amp; Central Coast</td>\n",
       "      <td>NaN</td>\n",
       "      <td>Retail &amp; Consumer Products</td>\n",
       "      <td>Retail Assistants</td>\n",
       "      <td>Bring it on - do you love the great outdoors a...</td>\n",
       "      <td>NaN</td>\n",
       "      <td>0</td>\n",
       "      <td>30</td>\n",
       "      <td>NaN</td>\n",
       "      <td>15.0</td>\n",
       "    </tr>\n",
       "    <tr>\n",
       "      <th>4</th>\n",
       "      <td>37404308</td>\n",
       "      <td>Business Banking Contact Centre Specialist, Ni...</td>\n",
       "      <td>Commonwealth Bank - Business &amp; Private Banking</td>\n",
       "      <td>2018-10-07</td>\n",
       "      <td>Sydney</td>\n",
       "      <td>Ryde &amp; Macquarie Park</td>\n",
       "      <td>Call Centre &amp; Customer Service</td>\n",
       "      <td>Sales - Inbound</td>\n",
       "      <td>We are seeking highly articulate, enthusiastic...</td>\n",
       "      <td>NaN</td>\n",
       "      <td>0</td>\n",
       "      <td>30</td>\n",
       "      <td>NaN</td>\n",
       "      <td>15.0</td>\n",
       "    </tr>\n",
       "  </tbody>\n",
       "</table>\n",
       "</div>"
      ],
      "text/plain": [
       "         Id                                              Title  \\\n",
       "0  37404348                           Casual Stock Replenisher   \n",
       "1  37404337                           Casual Stock Replenisher   \n",
       "2  37404356  RETAIL SALES SUPERSTARS and STYLISTS Wanted - ...   \n",
       "3  37404330                              Team member - Belrose   \n",
       "4  37404308  Business Banking Contact Centre Specialist, Ni...   \n",
       "\n",
       "                                          Company        Date  \\\n",
       "0                                     Aldi Stores  2018-10-07   \n",
       "1                                     Aldi Stores  2018-10-07   \n",
       "2                             LB Creative Pty Ltd  2018-10-07   \n",
       "3                          Anaconda Group Pty Ltd  2018-10-07   \n",
       "4  Commonwealth Bank - Business & Private Banking  2018-10-07   \n",
       "\n",
       "                  Location                         Area  \\\n",
       "0                   Sydney  North West & Hills District   \n",
       "1    Richmond & Hawkesbury                          NaN   \n",
       "2                 Brisbane          CBD & Inner Suburbs   \n",
       "3  Gosford & Central Coast                          NaN   \n",
       "4                   Sydney        Ryde & Macquarie Park   \n",
       "\n",
       "                   Classification  SubClassification  \\\n",
       "0      Retail & Consumer Products  Retail Assistants   \n",
       "1      Retail & Consumer Products  Retail Assistants   \n",
       "2      Retail & Consumer Products  Retail Assistants   \n",
       "3      Retail & Consumer Products  Retail Assistants   \n",
       "4  Call Centre & Customer Service    Sales - Inbound   \n",
       "\n",
       "                                         Requirement FullDescription  \\\n",
       "0  Our Casual Stock Replenishers pride themselves...             NaN   \n",
       "1  Our Casual Stock Replenishers pride themselves...             NaN   \n",
       "2  BRAND NEW FLAGSHIP STORE OPENING - SUNSHINE PLAZA             NaN   \n",
       "3  Bring it on - do you love the great outdoors a...             NaN   \n",
       "4  We are seeking highly articulate, enthusiastic...             NaN   \n",
       "\n",
       "   LowestSalary  HighestSalary JobType  AverageSalary  \n",
       "0             0             30     NaN           15.0  \n",
       "1             0             30     NaN           15.0  \n",
       "2             0             30     NaN           15.0  \n",
       "3             0             30     NaN           15.0  \n",
       "4             0             30     NaN           15.0  "
      ]
     },
     "execution_count": 7,
     "metadata": {},
     "output_type": "execute_result"
    }
   ],
   "source": [
    "df = df.assign(AverageSalary = lambda row: (row.LowestSalary + row.HighestSalary) /2 )\n",
    "\n",
    "# keep 8 number int \n",
    "df[\"Id\"] = df['Id'].replace(to_replace=r'&.*', value='', regex=True)\n",
    "\n",
    "# fix the data type of column Date\n",
    "df[\"Date\"] = df[\"Date\"].replace(to_replace=r'T.*', value='', regex=True)\n",
    "\n",
    "df.head()"
   ]
  },
  {
   "cell_type": "code",
   "execution_count": 8,
   "id": "a0eb37cd",
   "metadata": {},
   "outputs": [
    {
     "data": {
      "text/plain": [
       "Id                            int64\n",
       "Title                        object\n",
       "Company                      object\n",
       "Date                 datetime64[ns]\n",
       "Location                     object\n",
       "Area                         object\n",
       "Classification               object\n",
       "SubClassification            object\n",
       "Requirement                  object\n",
       "FullDescription              object\n",
       "LowestSalary                  int64\n",
       "HighestSalary                 int64\n",
       "JobType                      object\n",
       "AverageSalary               float64\n",
       "dtype: object"
      ]
     },
     "execution_count": 8,
     "metadata": {},
     "output_type": "execute_result"
    }
   ],
   "source": [
    "# Set column \"Id\" to type int64\n",
    "df[\"Id\"] = df['Id'].astype(np.int64)\n",
    "\n",
    "# Set column \"Date\" to type datetime64[ns]\n",
    "df[\"Date\"] = pd.to_datetime(df[\"Date\"])\n",
    "# Data types after data cleaning and conversions\n",
    "df.dtypes"
   ]
  },
  {
   "cell_type": "code",
   "execution_count": 9,
   "id": "41c5dddf",
   "metadata": {},
   "outputs": [
    {
     "name": "stdout",
     "output_type": "stream",
     "text": [
      "Duplicates found:  108\n",
      "Additional duplicates found without regard to timestamp:  43\n"
     ]
    }
   ],
   "source": [
    "# delete duplicate\n",
    "\n",
    "duplicate_count = df[df.duplicated()].shape[0]\n",
    "print(\"Duplicates found: \", duplicate_count)\n",
    "no_dates = df.drop('Date', axis=1)\n",
    "duplicate_count_no_dates = no_dates[no_dates.duplicated()].shape[0]\n",
    "difference = duplicate_count_no_dates - duplicate_count\n",
    "print('Additional duplicates found without regard to timestamp: ', difference)"
   ]
  },
  {
   "cell_type": "code",
   "execution_count": null,
   "id": "12b040e8",
   "metadata": {},
   "outputs": [],
   "source": []
  },
  {
   "cell_type": "markdown",
   "id": "7a148e6b",
   "metadata": {},
   "source": [
    "### Scenario 1:"
   ]
  },
  {
   "cell_type": "code",
   "execution_count": 46,
   "id": "2e16fec4",
   "metadata": {
    "scrolled": true
   },
   "outputs": [
    {
     "name": "stdout",
     "output_type": "stream",
     "text": [
      "Recommended for Tom:\n",
      "Major: Classification\n",
      "CEO & General Management                  363.283951\n",
      "Information & Communication Technology    246.493485\n",
      "Healthcare & Medical                      235.934783\n",
      "Mining, Resources & Energy                219.028443\n",
      "Consulting & Strategy                     185.862069\n",
      "Name: AverageSalary, dtype: float64\n"
     ]
    }
   ],
   "source": [
    "# Filter rows where the location is in Queensland\n",
    "queensland = ['Brisbane', 'Gold Coast', 'Sunshine Coast', 'Townsville', 'Cairns', 'Toowoomba', 'Mackay', \n",
    "              'Rockhampton', 'Bundaberg', 'Hervey Bay', 'Gladstone', 'Maryborough', 'Mount Isa', 'Gympie', \n",
    "              'Ipswich', 'Logan', 'Redland', 'Moreton Bay']\n",
    "queensland_data = df[(df['Location'].isin(queensland)) & (df['AverageSalary'] >= 80)]\n",
    "\n",
    "# Drop rows with missing values in 'Classification' or 'AverageSalary' columns\n",
    "queenslandDf = queensland_data.dropna(subset=['Classification', 'AverageSalary'])\n",
    "\n",
    "# Group by 'Classification' and calculate the average salary for each\n",
    "average_salary_by_classification = queenslandDf.groupby('Classification')['AverageSalary'].mean()\n",
    "\n",
    "# Sort the classifications by average salary in descending order\n",
    "Sorted = average_salary_by_classification.sort_values(ascending=False)\n",
    "\n",
    "# Recommend the top classifications as potential majors to Tom\n",
    "top5 = Sorted.head(5)\n",
    "\n",
    "\n",
    "\n",
    "print(\"Recommended for Tom:\")\n",
    "print(\"Major:\", top5)\n"
   ]
  },
  {
   "cell_type": "code",
   "execution_count": null,
   "id": "19e232d6",
   "metadata": {},
   "outputs": [],
   "source": [
    "# plot if needed\n"
   ]
  },
  {
   "cell_type": "code",
   "execution_count": null,
   "id": "19ed875c",
   "metadata": {},
   "outputs": [],
   "source": []
  },
  {
   "cell_type": "code",
   "execution_count": null,
   "id": "953a560c",
   "metadata": {},
   "outputs": [],
   "source": []
  },
  {
   "cell_type": "code",
   "execution_count": null,
   "id": "3b3cadc5",
   "metadata": {},
   "outputs": [],
   "source": []
  },
  {
   "cell_type": "markdown",
   "id": "0294619d",
   "metadata": {},
   "source": [
    "Discussion:\n",
    "\n",
    "Based on above analysis, i recommend Tom ......\n",
    "CEO & General Management is in business feild. Tom can enroll in bachelor's degree in business. There is a higher salary job in Queensland. \n",
    "\n",
    "\n",
    "\n"
   ]
  },
  {
   "cell_type": "code",
   "execution_count": null,
   "id": "07059b87",
   "metadata": {},
   "outputs": [],
   "source": []
  },
  {
   "cell_type": "markdown",
   "id": "ba852f3e",
   "metadata": {},
   "source": [
    "### Scenario 2: "
   ]
  },
  {
   "cell_type": "code",
   "execution_count": 60,
   "id": "b7c6b4f3",
   "metadata": {},
   "outputs": [
    {
     "name": "stdout",
     "output_type": "stream",
     "text": [
      "Top 5\n",
      " Classification\n",
      "Information & Communication Technology    2901\n",
      "Trades & Services                         2685\n",
      "Healthcare & Medical                      2575\n",
      "Hospitality & Tourism                     2214\n",
      "Manufacturing, Transport & Logistics      1945\n",
      "Name: count, dtype: int64 \n",
      "\n",
      "Last 5\n",
      " Classification\n",
      "CEO & General Management           113\n",
      "Science & Technology               113\n",
      "Advertising, Arts & Media           85\n",
      "Farming, Animals & Conservation     75\n",
      "Self Employment                     11\n",
      "Name: count, dtype: int64\n"
     ]
    }
   ],
   "source": [
    "# Analysis\n",
    "JobDemand = df['Classification'].value_counts()\n",
    "print('Top 5\\n', JobDemand.head(5),'\\n')\n",
    "print('Last 5\\n', JobDemand.tail(5))\n"
   ]
  },
  {
   "cell_type": "markdown",
   "id": "7c014535",
   "metadata": {},
   "source": [
    "Discussion:\n",
    "\n",
    "Majors like Information & Communication Technology, Trades & Services, Healthcare & Medical, Hospitality & Tourism, and Manufacturing, Transport & Logistics exhibited robust job demand, boasting thousands of job posting. \n",
    "\n",
    "\n",
    "However, majors such as CEO & General Management, Science & Technology, Advertising, Arts & Media, Farming, Animals & Conservation, and Self Employment displayed lower job demand, with fewer opportunities available.\n",
    "\n",
    "Recommendations:\n",
    "\n",
    "We recommend extending admission for majors with high job demand, such as Information & Communication Technology, Trades & Services, Healthcare & Medical, Hospitality & Tourism, and Manufacturing, Transport & Logistics. These majors offer abundant job opportunities and promising career prospects for graduates.\n",
    "\n",
    "We suggest reducing admission for majors with lower job demand, including CEO & General Management, Science & Technology, Advertising, Arts & Media, Farming, Animals & Conservation, and Self Employment. While these majors may still hold value for certain students, adjusting admission numbers ensures that resources are utilized efficiently and that graduates are adequately prepared for the job market"
   ]
  },
  {
   "cell_type": "code",
   "execution_count": null,
   "id": "d0ee897a",
   "metadata": {},
   "outputs": [],
   "source": []
  },
  {
   "cell_type": "code",
   "execution_count": 61,
   "id": "4c755606",
   "metadata": {},
   "outputs": [
    {
     "name": "stdout",
     "output_type": "stream",
     "text": [
      "Top 5\n",
      " Classification\n",
      "Information & Communication Technology    2072\n",
      "Healthcare & Medical                      1081\n",
      "Engineering                                648\n",
      "Construction                               584\n",
      "Government & Defence                       530\n",
      "Name: count, dtype: int64 \n",
      "\n",
      "Last 5\n",
      " Classification\n",
      "Call Centre & Customer Service     20\n",
      "Sport & Recreation                 20\n",
      "Advertising, Arts & Media           9\n",
      "Self Employment                     8\n",
      "Farming, Animals & Conservation     3\n",
      "Name: count, dtype: int64\n"
     ]
    }
   ],
   "source": [
    "# Analysis in Queensland\n",
    "JobDemand = queenslandDf['Classification'].value_counts()\n",
    "print('Top 5\\n', JobDemand.head(5),'\\n')\n",
    "print('Last 5\\n', JobDemand.tail(5))"
   ]
  },
  {
   "cell_type": "markdown",
   "id": "5749f071",
   "metadata": {},
   "source": [
    "Discussion:\n",
    "    \n",
    "The analysis of job market data in Queensland reveals notable disparities in job demand across various majors. The top five majors in terms of job demand are Information & Communication Technology, Healthcare & Medical, Engineering, Construction, and Government & Defence. These majors attract a significant number of job listings, indicating strong demand in the Queensland job market.\n",
    "\n",
    "Conversely, the last five Classification in terms of job demand are Call Centre & Customer Service, Sport & Recreation, Advertising, Arts & Media, Self Employment, and Farming, Animals & Conservation. These majors have relatively lower job demand, with fewer opportunities available in the Queensland job market.\n",
    "\n",
    "The top 5 Classification exhibit strong job demand in Queensland and offer promising career prospects for graduates. Extending admission numbers for these majors can ensure that Griffith University meets the workforce needs of the region.\n",
    "\n",
    "While for the last 5 majors may still have value for certain students, their lower job demand suggests that admission numbers could be adjusted to better align with market realities. This allows the university to allocate resources effectively and prioritize majors with higher demand."
   ]
  },
  {
   "cell_type": "code",
   "execution_count": null,
   "id": "563b547e",
   "metadata": {},
   "outputs": [],
   "source": []
  }
 ],
 "metadata": {
  "kernelspec": {
   "display_name": "Python 3 (ipykernel)",
   "language": "python",
   "name": "python3"
  },
  "language_info": {
   "codemirror_mode": {
    "name": "ipython",
    "version": 3
   },
   "file_extension": ".py",
   "mimetype": "text/x-python",
   "name": "python",
   "nbconvert_exporter": "python",
   "pygments_lexer": "ipython3",
   "version": "3.11.4"
  }
 },
 "nbformat": 4,
 "nbformat_minor": 5
}
